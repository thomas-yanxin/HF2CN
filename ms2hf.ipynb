{
 "cells": [
  {
   "cell_type": "code",
   "execution_count": null,
   "metadata": {},
   "outputs": [],
   "source": [
    "!pip install huggingface_hub -U\n",
    "!pip install modelscope -U"
   ]
  },
  {
   "cell_type": "code",
   "execution_count": null,
   "metadata": {},
   "outputs": [],
   "source": [
    "# 您准备从ModelScope下载的模型的名称\n",
    "ms_repo_id = \"X-D-Lab/MindChat-Qwen-7B-v2\"\n",
    "# 您准备传入HuggingFace的模型的名称\n",
    "hf_model_id = \"thomas-yanxin/MindChat-Qwen-7B-v2\""
   ]
  },
  {
   "cell_type": "code",
   "execution_count": null,
   "metadata": {},
   "outputs": [],
   "source": [
    "# 登录ModelScope\n",
    "from modelscope.hub.api import HubApi\n",
    "\n",
    "# 用您的账号登录https://www.modelscope.cn ，在个人中心->访问令牌, 复制SDK访问令牌\n",
    "YOUR_ACCESS_TOKEN = 'YOUR_MODELSCOPE_SDK_ACCESS_TOKEN'\n",
    "\n",
    "api = HubApi()\n",
    "api.login(YOUR_ACCESS_TOKEN)"
   ]
  },
  {
   "cell_type": "code",
   "execution_count": null,
   "metadata": {},
   "outputs": [],
   "source": [
    "# 从ModelScope下载模型\n",
    "import os\n",
    "from modelscope.hub.snapshot_download import snapshot_download\n",
    "\n",
    "model_path =snapshot_download(model_id=ms_repo_id, revision='master', cache_dir='./')"
   ]
  },
  {
   "cell_type": "code",
   "execution_count": null,
   "metadata": {},
   "outputs": [],
   "source": [
    "# 登录Hugging Face \n",
    "# https://huggingface.co/settings/tokens\n",
    "from huggingface_hub import login\n",
    "login()"
   ]
  },
  {
   "cell_type": "code",
   "execution_count": null,
   "metadata": {},
   "outputs": [],
   "source": [
    "!huggingface-cli upload {hf_model_id} {model_path} --private"
   ]
  }
 ],
 "metadata": {
  "language_info": {
   "name": "python"
  }
 },
 "nbformat": 4,
 "nbformat_minor": 2
}

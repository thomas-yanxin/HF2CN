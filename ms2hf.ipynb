{
 "cells": [
  {
   "cell_type": "code",
   "execution_count": null,
   "metadata": {},
   "outputs": [],
   "source": [
    "!pip install huggingface_hub -U\n",
    "!pip install modelscope -U"
   ]
  },
  {
   "cell_type": "code",
   "execution_count": null,
   "metadata": {},
   "outputs": [],
   "source": [
    "# 您准备从ModelScope下载的模型的名称\n",
    "ms_repo_id = \"X-D-Lab/MindChat-Qwen-7B-v2\"\n",
    "# 您准备传入HuggingFace的模型的名称\n",
    "hf_model_id = \"thomas/MindChat-Qwen-7B-v2\""
   ]
  },
  {
   "cell_type": "code",
   "execution_count": null,
   "metadata": {},
   "outputs": [],
   "source": [
    "# 登录ModelScope\n",
    "from modelscope.hub.api import HubApi\n",
    "\n",
    "# 用您的账号登录https://www.modelscope.cn ，在个人中心->访问令牌, 复制SDK访问令牌\n",
    "YOUR_ACCESS_TOKEN = 'YOUR_MODELSCOPE_SDK_ACCESS_TOKEN'\n",
    "\n",
    "api = HubApi()\n",
    "api.login(YOUR_ACCESS_TOKEN)"
   ]
  },
  {
   "cell_type": "code",
   "execution_count": null,
   "metadata": {},
   "outputs": [],
   "source": [
    "# 从ModelScope下载模型\n",
    "local_dir = os.path.join(os.path.abspath('.'), ms_repo_id.split(\"/\")[1])\n",
    "model_path =snapshot_download(model_id=ms_repo_id, revision='master', cache_dir=local_dir)"
   ]
  },
  {
   "cell_type": "code",
   "execution_count": null,
   "metadata": {},
   "outputs": [],
   "source": [
    "# 登录Hugging Face \n",
    "# https://huggingface.co/settings/tokens\n",
    "from huggingface_hub import login\n",
    "login()"
   ]
  },
  {
   "cell_type": "code",
   "execution_count": null,
   "metadata": {},
   "outputs": [],
   "source": [
    "from huggingface_hub import HfApi\n",
    "api = HfApi()\n",
    "future = api.upload_folder( # Upload in the background (non-blocking action)\n",
    "    repo_id=hf_model_id,\n",
    "    folder_path=local_dir,\n",
    "    run_as_future=True,\n",
    ")"
   ]
  }
 ],
 "metadata": {
  "language_info": {
   "name": "python"
  }
 },
 "nbformat": 4,
 "nbformat_minor": 2
}
